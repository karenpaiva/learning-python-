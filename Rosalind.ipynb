{
  "nbformat": 4,
  "nbformat_minor": 0,
  "metadata": {
    "colab": {
      "name": "Rosalind.ipynb",
      "provenance": [],
      "authorship_tag": "ABX9TyPj/WrDDVtimkxiPxfhVwj0",
      "include_colab_link": true
    },
    "kernelspec": {
      "name": "python3",
      "display_name": "Python 3"
    },
    "language_info": {
      "name": "python"
    }
  },
  "cells": [
    {
      "cell_type": "markdown",
      "metadata": {
        "id": "view-in-github",
        "colab_type": "text"
      },
      "source": [
        "<a href=\"https://colab.research.google.com/github/karenpaiva/learning-python-/blob/master/Rosalind.ipynb\" target=\"_parent\"><img src=\"https://colab.research.google.com/assets/colab-badge.svg\" alt=\"Open In Colab\"/></a>"
      ]
    },
    {
      "cell_type": "markdown",
      "metadata": {
        "id": "MW-6JxyhCzRk"
      },
      "source": [
        "Exercício Counting DNA Nucleotides"
      ]
    },
    {
      "cell_type": "code",
      "metadata": {
        "colab": {
          "base_uri": "https://localhost:8080/"
        },
        "id": "qWp71ZBwCuIC",
        "outputId": "6345f4f6-7e54-4188-a088-75ab4414ef45"
      },
      "source": [
        "Dna= 'AGCTTTTCATTCTGACTGCAACGGGCAATATGTCTCTGTGTGGATTAAAAAAAGAGTGTCTGATAGCAGC' # Colocar a string de Dna \n",
        "a=Dna.count('A')\n",
        "t=Dna.count('T')\n",
        "g=Dna.count('G')\n",
        "c=Dna.count('C')\n",
        "print(a , c ,g , t)"
      ],
      "execution_count": 1,
      "outputs": [
        {
          "output_type": "stream",
          "name": "stdout",
          "text": [
            "20 12 17 21\n"
          ]
        }
      ]
    },
    {
      "cell_type": "markdown",
      "metadata": {
        "id": "pb3gUSmqCxqK"
      },
      "source": [
        "Exercício Transcribing DNA into RNA"
      ]
    },
    {
      "cell_type": "code",
      "metadata": {
        "id": "rpknwunsDvet"
      },
      "source": [
        "!pip install biopython"
      ],
      "execution_count": null,
      "outputs": []
    },
    {
      "cell_type": "code",
      "metadata": {
        "colab": {
          "base_uri": "https://localhost:8080/"
        },
        "id": "JbihJaPMEGAJ",
        "outputId": "3a6db985-4510-4328-eb58-c0d4dd41966b"
      },
      "source": [
        "from Bio.Seq import Seq # importar o Seq do biopython\n",
        "Dna=Seq('GATGGAACTTGACTACGTAAATT') # imput do Dna em uma Seq \n",
        "Rna=Dna.transcribe()\n",
        "print(Rna)"
      ],
      "execution_count": 5,
      "outputs": [
        {
          "output_type": "stream",
          "name": "stdout",
          "text": [
            "GAUGGAACUUGACUACGUAAAUU\n"
          ]
        }
      ]
    }
  ]
}